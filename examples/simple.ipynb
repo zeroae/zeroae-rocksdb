{
 "cells": [
  {
   "cell_type": "code",
   "execution_count": 13,
   "metadata": {
    "collapsed": true
   },
   "outputs": [],
   "source": [
    "import os\n",
    "from zeroae.rocksdb import c as crocksdb"
   ]
  },
  {
   "cell_type": "code",
   "execution_count": 14,
   "outputs": [],
   "source": [
    "DBPath=\"/tmp/rocksdb_simple_example\"\n",
    "DBBackupPath=\"/tmp/rocksdb_simple_example_backup\""
   ],
   "metadata": {
    "collapsed": false,
    "pycharm": {
     "name": "#%%\n"
    }
   }
  },
  {
   "cell_type": "markdown",
   "source": [
    "### Optimize RocksDB\n",
    "The easiest way to get RocksDB to perform well -- use all your cores."
   ],
   "metadata": {
    "collapsed": false,
    "pycharm": {
     "name": "#%% md\n"
    }
   }
  },
  {
   "cell_type": "code",
   "execution_count": 15,
   "outputs": [],
   "source": [
    "options = crocksdb.options.create()\n",
    "crocksdb.options.increase_parallelism(options,os.cpu_count())\n",
    "crocksdb.options.optimize_level_style_compaction(options,0)\n",
    "crocksdb.options.set_create_if_missing(options, 1)"
   ],
   "metadata": {
    "collapsed": false,
    "pycharm": {
     "name": "#%%\n"
    }
   }
  },
  {
   "cell_type": "markdown",
   "source": [
    "### Open the database"
   ],
   "metadata": {
    "collapsed": false
   }
  },
  {
   "cell_type": "code",
   "execution_count": 16,
   "outputs": [],
   "source": [
    "db, err = crocksdb.open(options, DBPath)\n",
    "assert err is None"
   ],
   "metadata": {
    "collapsed": false,
    "pycharm": {
     "name": "#%%\n"
    }
   }
  },
  {
   "cell_type": "markdown",
   "source": [
    "### Open the backup engine\n",
    "We will use it for backing up our database."
   ],
   "metadata": {
    "collapsed": false
   }
  },
  {
   "cell_type": "code",
   "execution_count": 17,
   "outputs": [],
   "source": [
    "be, err = crocksdb.backup_engine.open(options, DBBackupPath);\n",
    "assert err is None"
   ],
   "metadata": {
    "collapsed": false,
    "pycharm": {
     "name": "#%%\n"
    }
   }
  },
  {
   "cell_type": "markdown",
   "source": [
    "### Put key-value"
   ],
   "metadata": {
    "collapsed": false,
    "pycharm": {
     "name": "#%% md\n"
    }
   }
  },
  {
   "cell_type": "code",
   "execution_count": 18,
   "outputs": [],
   "source": [
    "writeoptions = crocksdb.writeoptions.create()\n",
    "key = \"key\"\n",
    "value = \"value\"\n",
    "err = crocksdb.put(db, writeoptions, key, value)\n",
    "assert err is None\n",
    "crocksdb.writeoptions.destroy(writeoptions)"
   ],
   "metadata": {
    "collapsed": false,
    "pycharm": {
     "name": "#%%\n"
    }
   }
  },
  {
   "cell_type": "markdown",
   "source": [
    "### Read the value back"
   ],
   "metadata": {
    "collapsed": false,
    "pycharm": {
     "name": "#%% md\n"
    }
   }
  },
  {
   "cell_type": "code",
   "execution_count": 19,
   "outputs": [
    {
     "ename": "TypeError",
     "evalue": "get() missing 2 required positional arguments: 'rv' and 'rvlen'",
     "output_type": "error",
     "traceback": [
      "\u001B[0;31m---------------------------------------------------------------------------\u001B[0m",
      "\u001B[0;31mTypeError\u001B[0m                                 Traceback (most recent call last)",
      "\u001B[0;32m<ipython-input-19-2530e63533f9>\u001B[0m in \u001B[0;36m<module>\u001B[0;34m\u001B[0m\n\u001B[1;32m      1\u001B[0m \u001B[0mreadoptions\u001B[0m \u001B[0;34m=\u001B[0m \u001B[0mcrocksdb\u001B[0m\u001B[0;34m.\u001B[0m\u001B[0mreadoptions\u001B[0m\u001B[0;34m.\u001B[0m\u001B[0mcreate\u001B[0m\u001B[0;34m(\u001B[0m\u001B[0;34m)\u001B[0m\u001B[0;34m\u001B[0m\u001B[0;34m\u001B[0m\u001B[0m\n\u001B[0;32m----> 2\u001B[0;31m \u001B[0mrv\u001B[0m\u001B[0;34m,\u001B[0m \u001B[0merr\u001B[0m \u001B[0;34m=\u001B[0m \u001B[0mcrocksdb\u001B[0m\u001B[0;34m.\u001B[0m\u001B[0mget\u001B[0m\u001B[0;34m(\u001B[0m\u001B[0mdb\u001B[0m\u001B[0;34m,\u001B[0m \u001B[0mreadoptions\u001B[0m\u001B[0;34m,\u001B[0m \u001B[0;34m\"key\"\u001B[0m\u001B[0;34m)\u001B[0m\u001B[0;34m\u001B[0m\u001B[0;34m\u001B[0m\u001B[0m\n\u001B[0m\u001B[1;32m      3\u001B[0m \u001B[0;32massert\u001B[0m \u001B[0merr\u001B[0m \u001B[0;32mis\u001B[0m \u001B[0;32mNone\u001B[0m\u001B[0;34m\u001B[0m\u001B[0;34m\u001B[0m\u001B[0m\n\u001B[1;32m      4\u001B[0m \u001B[0;32massert\u001B[0m \u001B[0mrv\u001B[0m \u001B[0;34m==\u001B[0m \u001B[0;34m\"value\"\u001B[0m\u001B[0;34m\u001B[0m\u001B[0;34m\u001B[0m\u001B[0m\n\u001B[1;32m      5\u001B[0m \u001B[0mcrocksdb\u001B[0m\u001B[0;34m.\u001B[0m\u001B[0mreadoptions\u001B[0m\u001B[0;34m.\u001B[0m\u001B[0mdestroy\u001B[0m\u001B[0;34m(\u001B[0m\u001B[0mreadoptions\u001B[0m\u001B[0;34m)\u001B[0m\u001B[0;34m\u001B[0m\u001B[0;34m\u001B[0m\u001B[0m\n",
      "\u001B[0;31mTypeError\u001B[0m: get() missing 2 required positional arguments: 'rv' and 'rvlen'"
     ]
    }
   ],
   "source": [
    "readoptions = crocksdb.readoptions.create()\n",
    "rv, err = crocksdb.get(db, readoptions, \"key\")\n",
    "assert err is None\n",
    "assert rv == \"value\"\n",
    "crocksdb.readoptions.destroy(readoptions)"
   ],
   "metadata": {
    "collapsed": false,
    "pycharm": {
     "name": "#%%\n"
    }
   }
  },
  {
   "cell_type": "markdown",
   "source": [
    "### Create a backup in DBBackupPath"
   ],
   "metadata": {
    "collapsed": false,
    "pycharm": {
     "name": "#%% md\n"
    }
   }
  },
  {
   "cell_type": "code",
   "execution_count": 20,
   "outputs": [],
   "source": [
    "err = crocksdb.backup_engine.create_new_backup(be, db)\n",
    "assert err is None\n",
    "crocksdb.close(db)"
   ],
   "metadata": {
    "collapsed": false,
    "pycharm": {
     "name": "#%%\n"
    }
   }
  },
  {
   "cell_type": "markdown",
   "source": [
    "### Restore backup back into DBPath"
   ],
   "metadata": {
    "collapsed": false,
    "pycharm": {
     "name": "#%% md\n"
    }
   }
  },
  {
   "cell_type": "code",
   "execution_count": 21,
   "outputs": [],
   "source": [
    "restore_options = crocksdb.restore_options.create()\n",
    "err = crocksdb.backup_engine.restore_db_from_latest_backup(\n",
    "    be, DBPath, DBPath, restore_options\n",
    ")\n",
    "assert err is None\n",
    "crocksdb.restore_options.destroy(restore_options)"
   ],
   "metadata": {
    "collapsed": false,
    "pycharm": {
     "name": "#%%\n"
    }
   }
  },
  {
   "cell_type": "markdown",
   "source": [
    "### Reopen the restored database"
   ],
   "metadata": {
    "collapsed": false,
    "pycharm": {
     "name": "#%% md\n"
    }
   }
  },
  {
   "cell_type": "code",
   "execution_count": 22,
   "outputs": [],
   "source": [
    "db, err = crocksdb.open(options, DBPath)\n",
    "assert err is None"
   ],
   "metadata": {
    "collapsed": false,
    "pycharm": {
     "name": "#%%\n"
    }
   }
  },
  {
   "cell_type": "markdown",
   "source": [
    "### Cleanup"
   ],
   "metadata": {
    "collapsed": false,
    "pycharm": {
     "name": "#%% md\n"
    }
   }
  },
  {
   "cell_type": "code",
   "execution_count": 23,
   "outputs": [],
   "source": [
    "crocksdb.options.destroy(options)\n",
    "crocksdb.backup_engine.close(be)\n",
    "crocksdb.close(db)"
   ],
   "metadata": {
    "collapsed": false,
    "pycharm": {
     "name": "#%%\n"
    }
   }
  },
  {
   "cell_type": "code",
   "execution_count": null,
   "outputs": [],
   "source": [
    "\n"
   ],
   "metadata": {
    "collapsed": false,
    "pycharm": {
     "name": "#%%\n"
    }
   }
  }
 ],
 "metadata": {
  "kernelspec": {
   "display_name": "Python 3",
   "language": "python",
   "name": "python3"
  },
  "language_info": {
   "codemirror_mode": {
    "name": "ipython",
    "version": 2
   },
   "file_extension": ".py",
   "mimetype": "text/x-python",
   "name": "python",
   "nbconvert_exporter": "python",
   "pygments_lexer": "ipython2",
   "version": "2.7.6"
  }
 },
 "nbformat": 4,
 "nbformat_minor": 0
}